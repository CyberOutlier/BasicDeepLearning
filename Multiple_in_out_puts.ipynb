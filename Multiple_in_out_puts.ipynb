{
  "nbformat": 4,
  "nbformat_minor": 0,
  "metadata": {
    "colab": {
      "name": "Multiple in-out-puts.ipynb",
      "provenance": [],
      "authorship_tag": "ABX9TyPfhMr+KqLwK8laUSlUzedu",
      "include_colab_link": true
    },
    "kernelspec": {
      "name": "python3",
      "display_name": "Python 3"
    },
    "language_info": {
      "name": "python"
    }
  },
  "cells": [
    {
      "cell_type": "markdown",
      "metadata": {
        "id": "view-in-github",
        "colab_type": "text"
      },
      "source": [
        "<a href=\"https://colab.research.google.com/github/CyberOutlier/BasicDeepLearning/blob/main/Multiple_in_out_puts.ipynb\" target=\"_parent\"><img src=\"https://colab.research.google.com/assets/colab-badge.svg\" alt=\"Open In Colab\"/></a>"
      ]
    },
    {
      "cell_type": "code",
      "metadata": {
        "colab": {
          "base_uri": "https://localhost:8080/",
          "height": 130
        },
        "id": "bL8MhAM2xHtn",
        "outputId": "f4990777-39f3-45a8-960f-c14397e5cd53"
      },
      "source": [
        "def w_sum(vec, matrix):\n",
        "  output = 0\n",
        "  assert(len(vec) == len(matrix))\n",
        "  for i in range(len(vec)):\n",
        "    output += vec[i] * matrix[i]\n",
        "  return output\n",
        "\n",
        "def ele_num(vec, matrix):\n",
        "  output = [0, 0, 0]\n",
        "  assert(len(output) == len(matrix))\n",
        "  for i in range(len(vec)):\n",
        "    output[i] += w_sum(vec, matrix[i])\n",
        "  return output\n",
        "\n",
        "\n",
        "def neural_network(input,weights):\n",
        "  hidden = ele_num(input, weights[0])\n",
        "  prediction = ele_num(hidden, weights[1])\n",
        "  return prediction\n",
        "\n",
        "\n",
        "weights1 = [ [0.1, 0.2, -0.1], #hid[0]\n",
        "                  [-0.1,0.1, 0.9], #hid[1]\n",
        "                  [0.1, 0.4, 0.1] ] #hid[2]\n",
        "\n",
        "weights2 = [ [0.3, 1.1, -0.3], #hurt?\n",
        "                   [0.1, 0.2, 0.0], #win?\n",
        "                   [0.0, 1.3, 0.1] ]\n",
        "\n",
        "weights = [weights1, weights2]\n",
        "\n",
        "weather = [8.5, 9.5, 9.9, 9.0]\n",
        "\n",
        "events = [0.65,0.8, 0.8, 0.9]\n",
        "\n",
        "people = [1.2, 1.3, 0.5, 1.0]\n",
        "\n",
        "#for i in range(len(weather)):\n",
        "input = [weather[0], events[0], people[0]]\n",
        "pred = neural_network(input, weights)\n",
        "print(pred)"
      ],
      "execution_count": null,
      "outputs": [
        {
          "output_type": "error",
          "ename": "IndentationError",
          "evalue": "ignored",
          "traceback": [
            "\u001b[0;36m  File \u001b[0;32m\"<ipython-input-73-ee88da3fb9ca>\"\u001b[0;36m, line \u001b[0;32m39\u001b[0m\n\u001b[0;31m    input = [weather[0], events[0], people[0]]\u001b[0m\n\u001b[0m    ^\u001b[0m\n\u001b[0;31mIndentationError\u001b[0m\u001b[0;31m:\u001b[0m unexpected indent\n"
          ]
        }
      ]
    },
    {
      "cell_type": "code",
      "metadata": {
        "colab": {
          "base_uri": "https://localhost:8080/"
        },
        "id": "QsZaMcLm7k0J",
        "outputId": "0a161af0-3836-4904-eef4-fb30265aa9e6"
      },
      "source": [
        " ih_wgt = [ [0.1, 0.2, -0.1], #hid[0]\n",
        "           [-0.1,0.1, 0.9], #hid[1]\n",
        "           [0.1, 0.4, 0.1] ] #hid[2]\n",
        "\n",
        "           #hid[0] hid[1] hid[2]\n",
        "hp_wgt = [ [0.3, 1.1, -0.3], #hurt?\n",
        "           [0.1, 0.2, 0.0], #win?\n",
        "           [0.0, 1.3, 0.1] ] #sad?\n",
        "\n",
        "weights = [ih_wgt, hp_wgt]\n",
        "\n",
        "def w_sum(a,b):\n",
        "    assert(len(a) == len(b))\n",
        "    output = 0\n",
        "    for i in range(len(a)):\n",
        "        output += (a[i] * b[i])\n",
        "    return output\n",
        "\n",
        "def vect_mat_mul(vect,matrix):\n",
        "    assert(len(vect) == len(matrix))\n",
        "    output = [0,0,0]\n",
        "    for i in range(len(vect)):\n",
        "        output[i] = w_sum(vect,matrix[i])\n",
        "    return output\n",
        "\n",
        "def neural_network(input, weights):\n",
        "    hid = vect_mat_mul(input,weights[0])\n",
        "    pred = vect_mat_mul(hid,weights[1])\n",
        "    return pred\n",
        "\n",
        "toes =  [8.5, 9.5, 9.9, 9.0]\n",
        "wlrec = [0.65,0.8, 0.8, 0.9]\n",
        "nfans = [1.2, 1.3, 0.5, 1.0]\n",
        "\n",
        "# Input corresponds to every entry\n",
        "# for the first game of the season.\n",
        "\n",
        "input = [toes[0],wlrec[0],nfans[0]]\n",
        "pred = neural_network(input,weights)\n",
        "\n",
        "print(pred)"
      ],
      "execution_count": null,
      "outputs": [
        {
          "output_type": "stream",
          "text": [
            "[0.21350000000000002, 0.14500000000000002, 0.5065]\n"
          ],
          "name": "stdout"
        }
      ]
    },
    {
      "cell_type": "code",
      "metadata": {
        "colab": {
          "base_uri": "https://localhost:8080/"
        },
        "id": "e573tlaWaTni",
        "outputId": "fd7856e0-9f75-442e-b3d9-62d6d800cb1b"
      },
      "source": [
        "import numpy as np\n",
        "\n",
        "ih_wgt = np.array([ [0.1, 0.2, -0.1],\n",
        "                  [-0.1, 0.1, 0.9],\n",
        "                  [0.1, 0.4, 0.1] ]).T\n",
        "\n",
        "hp_wgt = np.array([ [0.3, 1.1, -0.3],\n",
        "                   [0.1, 0.2, 0.0],\n",
        "                   [0.0, 1.3, 0.1] ]).T\n",
        "\n",
        "weights = [ih_wgt, hp_wgt]\n",
        "\n",
        "weather = [8.5, 9.5, 9.9, 9.0]\n",
        "\n",
        "events = [0.65,0.8, 0.8, 0.9]\n",
        "\n",
        "people = [1.2, 1.3, 0.5, 1.0]\n",
        "\n",
        "def neural_network(input, weights):\n",
        "  print(weights[0])\n",
        "  hidden = input.dot(weights[0])\n",
        "  print(hidden)\n",
        "  prediction = hidden.dot(weights[1])\n",
        "  return prediction\n",
        "\n",
        "input = np.array([weather[3], events[3], people[3]])\n",
        "print(input)\n",
        "pred = neural_network(input, weights)\n",
        "print(pred)"
      ],
      "execution_count": 4,
      "outputs": [
        {
          "output_type": "stream",
          "text": [
            "[9.  0.9 1. ]\n",
            "[[ 0.1 -0.1  0.1]\n",
            " [ 0.2  0.1  0.4]\n",
            " [-0.1  0.9  0.1]]\n",
            "[0.98 0.09 1.36]\n",
            "[-0.015  0.116  0.253]\n"
          ],
          "name": "stdout"
        }
      ]
    },
    {
      "cell_type": "code",
      "metadata": {
        "colab": {
          "base_uri": "https://localhost:8080/"
        },
        "id": "Jx2XtHAbdKBQ",
        "outputId": "4408f197-b5e7-4a0f-8ce1-87c379921e79"
      },
      "source": [
        "import numpy as np\n",
        "\n",
        "#toes %win #fans\n",
        "ih_wgt = np.array([ \n",
        "            [0.1, 0.2, -0.1], #hid[0]\n",
        "            [-0.1,0.1, 0.9], #hid[1]\n",
        "            [0.1, 0.4, 0.1]]).T #hid[2]\n",
        "\n",
        "\n",
        "# hid[0] hid[1] hid[2]\n",
        "hp_wgt = np.array([  \n",
        "            [0.3, 1.1, -0.3], #hurt?\n",
        "            [0.1, 0.2, 0.0], #win?\n",
        "            [0.0, 1.3, 0.1] ]).T #sad?\n",
        "\n",
        "weights = [ih_wgt, hp_wgt]\n",
        "\n",
        "def neural_network(input, weights):\n",
        "  for i in range(len(weights)):\n",
        "    hid = input.dot(weights[i])\n",
        "    i += 1\n",
        "    pred = hid.dot(weights[i])\n",
        "    return pred\n",
        "\n",
        "\n",
        "toes =  np.array([8.5, 9.5, 9.9, 9.0])\n",
        "wlrec = np.array([0.65,0.8, 0.8, 0.9])\n",
        "nfans = np.array([1.2, 1.3, 0.5, 1.0])\n",
        "\n",
        "for i in range(len(toes)):\n",
        "  input = np.array([toes[i],wlrec[i],nfans[i]])\n",
        "  pred = neural_network(input,weights)\n",
        "  print(pred)"
      ],
      "execution_count": 2,
      "outputs": [
        {
          "output_type": "stream",
          "text": [
            "[0.2135 0.145  0.5065]\n",
            "[0.204 0.158 0.53 ]\n",
            "[-0.584  0.018 -0.462]\n",
            "[-0.015  0.116  0.253]\n"
          ],
          "name": "stdout"
        }
      ]
    }
  ]
}