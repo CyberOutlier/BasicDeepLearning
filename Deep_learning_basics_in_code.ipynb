{
  "nbformat": 4,
  "nbformat_minor": 0,
  "metadata": {
    "colab": {
      "name": "Deep_learning_basics_in_code.ipynb",
      "provenance": [],
      "authorship_tag": "ABX9TyOsotrn3EzMDWKUWaKwxEPZ",
      "include_colab_link": true
    },
    "kernelspec": {
      "name": "python3",
      "display_name": "Python 3"
    },
    "language_info": {
      "name": "python"
    }
  },
  "cells": [
    {
      "cell_type": "markdown",
      "metadata": {
        "id": "view-in-github",
        "colab_type": "text"
      },
      "source": [
        "<a href=\"https://colab.research.google.com/github/CyberOutlier/BasicDeepLearning/blob/main/Deep_learning_basics_in_code.ipynb\" target=\"_parent\"><img src=\"https://colab.research.google.com/assets/colab-badge.svg\" alt=\"Open In Colab\"/></a>"
      ]
    },
    {
      "cell_type": "markdown",
      "metadata": {
        "id": "Krj2-rb2OyCE"
      },
      "source": [
        ""
      ]
    },
    {
      "cell_type": "markdown",
      "metadata": {
        "id": "dXOy2zvsOzD1"
      },
      "source": [
        "Een simpel neuraal netwerk: met één gewicht of parameter."
      ]
    },
    {
      "cell_type": "code",
      "metadata": {
        "colab": {
          "base_uri": "https://localhost:8080/"
        },
        "id": "h6yqtrGujYHe",
        "outputId": "e1efdbd3-479b-474a-b8f0-eb844ca6bb28"
      },
      "source": [
        "weight = 0.1\n",
        "\n",
        "def neural_network(input, weight):\n",
        "  prediction = input * weight\n",
        "  return prediction\n",
        "\n",
        "input_set = [8.5, 9.0, 7.0, 6.5, 7.0]\n",
        "\n",
        "for i in range(5):\n",
        "  input = input_set[i]\n",
        "  pred = neural_network(input, weight)\n",
        "  print(pred) \n"
      ],
      "execution_count": null,
      "outputs": [
        {
          "output_type": "stream",
          "text": [
            "0.8500000000000001\n",
            "0.9\n",
            "0.7000000000000001\n",
            "0.65\n",
            "0.7000000000000001\n"
          ],
          "name": "stdout"
        }
      ]
    },
    {
      "cell_type": "markdown",
      "metadata": {
        "id": "uj8YodZtO4cd"
      },
      "source": [
        ""
      ]
    },
    {
      "cell_type": "markdown",
      "metadata": {
        "id": "K1OVkDbQPE3H"
      },
      "source": [
        "Een simpel neuraal netwerk met meerdere gewichten of parameters."
      ]
    },
    {
      "cell_type": "code",
      "metadata": {
        "colab": {
          "base_uri": "https://localhost:8080/"
        },
        "id": "-lpXo1HTW1Ue",
        "outputId": "f77779e6-6437-44a5-9fc1-689aecc12859"
      },
      "source": [
        "weight = [0.1, 0.2, 0]\n",
        "\n",
        "def w_sum( a, b):\n",
        "  assert(len(a) == len(b))\n",
        "  output = 0\n",
        "  for i in range(len(a)):\n",
        "    output += (a[i] * b[i])\n",
        "  return output\n",
        "\n",
        "def neural_multi_network(input, weight):\n",
        "  prediction = w_sum(input, weight)\n",
        "  return prediction\n",
        "\n",
        "\n",
        "toes = [8.5, 9.5, 9.9, 9.0]\n",
        "wlrec = [0.65, 0.8, 0.8, 0.9]\n",
        "nfans = [1.2, 1.3, 0.5, 1.0]\n",
        "\n",
        "for i in range(4):\n",
        "  input = [toes[i], wlrec[i], nfans[i]]\n",
        "  pred = neural_multi_network(input, weight)\n",
        "  print(pred)\n",
        "\n",
        "\n"
      ],
      "execution_count": null,
      "outputs": [
        {
          "output_type": "stream",
          "text": [
            "0.9800000000000001\n",
            "1.11\n",
            "1.1500000000000001\n",
            "1.08\n"
          ],
          "name": "stdout"
        }
      ]
    },
    {
      "cell_type": "markdown",
      "metadata": {
        "id": "TxY1IdkfPLfK"
      },
      "source": [
        "Bovenstaande netwerk, maar alleen nu in numpy"
      ]
    },
    {
      "cell_type": "code",
      "metadata": {
        "colab": {
          "base_uri": "https://localhost:8080/"
        },
        "id": "TARMedORRw06",
        "outputId": "669f7892-9e49-47a9-d94f-a73a9f5201cb"
      },
      "source": [
        "import numpy as np\n",
        "weight = np.array([0.1, 0.2, 0])\n",
        "\n",
        "def neural_m_n(input, weight):\n",
        "  prediction = input.dot(weight)\n",
        "  return prediction\n",
        "\n",
        "toes = [8.5, 9.5, 9.9, 9.0]\n",
        "wlrec = [0.65, 0.8, 0.8, 0.9]\n",
        "nfans = [1.2, 1.3, 0.5, 1.0]\n",
        "\n",
        "for i in range(len(toes)):\n",
        "  input = np.array([toes[i], wlrec[i], nfans[i]])\n",
        "  pred = neural_m_n(input, weight)\n",
        "  print(pred)"
      ],
      "execution_count": null,
      "outputs": [
        {
          "output_type": "stream",
          "text": [
            "0.9800000000000001\n",
            "1.11\n",
            "1.1500000000000001\n",
            "1.08\n"
          ],
          "name": "stdout"
        }
      ]
    },
    {
      "cell_type": "markdown",
      "metadata": {
        "id": "ArXmaLJuPU_u"
      },
      "source": [
        "Een simpel netwerk met één input en meerdere outputs"
      ]
    },
    {
      "cell_type": "code",
      "metadata": {
        "id": "8-xYiXn9MMzA"
      },
      "source": [
        "def ele_num(input, w_vector):\n",
        "  output = [0, 0, 0]\n",
        "  assert(len(output) == len(w_vector))\n",
        "  for i in range(len(w_vector)):\n",
        "    output[i] = input * w_vector[i]\n",
        "  return output\n"
      ],
      "execution_count": null,
      "outputs": []
    },
    {
      "cell_type": "code",
      "metadata": {
        "id": "rX-bHsmxL5-4"
      },
      "source": [
        "def neural_network_2(input, weights):\n",
        "  prediction = ele_num(input,weights)\n",
        "  return prediction"
      ],
      "execution_count": null,
      "outputs": []
    },
    {
      "cell_type": "code",
      "metadata": {
        "colab": {
          "base_uri": "https://localhost:8080/"
        },
        "id": "sflXfA-3M-TW",
        "outputId": "02e9e96d-47f4-4370-d3d9-e29c2fa088dc"
      },
      "source": [
        "weights = [0.3, 0.2, 0.9]\n",
        "wlrec = [0.65, 0.8, 0.7, 0.9]\n",
        "\n",
        "for i in range(len(wlrec)):\n",
        "  input = wlrec[i]\n",
        "  pred = neural_network_2(input, weights)\n",
        "  print(pred)"
      ],
      "execution_count": null,
      "outputs": [
        {
          "output_type": "stream",
          "text": [
            "[0.195, 0.13, 0.5850000000000001]\n",
            "[0.24, 0.16000000000000003, 0.7200000000000001]\n",
            "[0.21, 0.13999999999999999, 0.63]\n",
            "[0.27, 0.18000000000000002, 0.81]\n"
          ],
          "name": "stdout"
        }
      ]
    },
    {
      "cell_type": "markdown",
      "metadata": {
        "id": "123SwkCiPzr_"
      },
      "source": [
        "Een simpel neuraal netwerk met meerdere inputs en meerdere outputs"
      ]
    },
    {
      "cell_type": "code",
      "metadata": {
        "colab": {
          "base_uri": "https://localhost:8080/"
        },
        "id": "7ILrY6tFuefU",
        "outputId": "2fba8415-c063-4257-95f0-e23988381f99"
      },
      "source": [
        "def w_sum(a, b):\n",
        "  output = 0\n",
        "  assert(len(a) == len(b))\n",
        "  for i in range(len(a)):\n",
        "    output +=a[i] * b[i]\n",
        "  return output\n",
        "\n",
        "\n",
        "def ele_vec(in_vec, w_vec):\n",
        "  output = [0 ,0 ,0]\n",
        "  assert (len(output) == len(in_vec))\n",
        "  for i in range(len(in_vec)):\n",
        "    output[i] = w_sum(in_vec, w_vec[i])\n",
        "  return output\n",
        "\n",
        "\n",
        "\n",
        "def neural_network_3(input,weights):\n",
        "  prediction = ele_vec(input,weights)\n",
        "  return prediction\n",
        "\n",
        "weights = [ [0.1, 0.1, -0.3], \n",
        "            [0.1, 0.2, 0.0],\n",
        "            [0.0, 1.3, 0.1] ]\n",
        "toes = [8.5, 9.5, 9.9, 9.0] \n",
        "wlrec = [0.65,0.8, 0.8, 0.9] \n",
        "nfans = [1.2, 1.3, 0.5, 1.0] \n",
        "\n",
        "\n",
        "for i in range(len(toes)):\n",
        "  input = ([toes[i], wlrec[i], nfans[i]])\n",
        "  pred = neural_network_3(input, weights)\n",
        "  print(pred)"
      ],
      "execution_count": null,
      "outputs": [
        {
          "output_type": "stream",
          "text": [
            "[0.555, 0.9800000000000001, 0.9650000000000001]\n",
            "[0.64, 1.11, 1.17]\n",
            "[0.92, 1.1500000000000001, 1.09]\n",
            "[0.69, 1.08, 1.2700000000000002]\n"
          ],
          "name": "stdout"
        }
      ]
    },
    {
      "cell_type": "markdown",
      "metadata": {
        "id": "xkUeXHjkNnBB"
      },
      "source": [
        "Een simpel neuraal netwerk met meerdere inputs en meerdere outputs met numpy"
      ]
    },
    {
      "cell_type": "code",
      "metadata": {
        "colab": {
          "base_uri": "https://localhost:8080/"
        },
        "id": "6n8u4cP73n51",
        "outputId": "8c554c65-0920-4edd-9361-6eb7c4dcb546"
      },
      "source": [
        "import numpy as np\n",
        "\n",
        "weights = np.array([ [0.1, 0.1, -0.3], \n",
        "            [0.1, 0.2, 0.0],\n",
        "            [0.0, 1.3, 0.1] ])\n",
        "\n",
        "toes = [8.5, 9.5, 9.9, 9.0] \n",
        "wlrec = [0.65,0.8, 0.8, 0.9] \n",
        "nfans = [1.2, 1.3, 0.5, 1.0]\n",
        "\n",
        "def neural_network_4(input,weights):\n",
        "  output = [0, 0, 0]\n",
        "  for i in range(len(input)):\n",
        "    output[i] += input.dot(weights[i])\n",
        "  return output\n",
        "\n",
        "for i in range(len(toes)):\n",
        "  input = np.array([toes[i], wlrec[i], nfans[i]])\n",
        "  pred = neural_network_4(input, weights)\n",
        "  print(pred)"
      ],
      "execution_count": null,
      "outputs": [
        {
          "output_type": "stream",
          "text": [
            "[0.5550000000000002, 0.9800000000000001, 0.9650000000000001]\n",
            "[0.64, 1.11, 1.1700000000000002]\n",
            "[0.92, 1.1500000000000001, 1.09]\n",
            "[0.69, 1.08, 1.2700000000000002]\n"
          ],
          "name": "stdout"
        }
      ]
    },
    {
      "cell_type": "markdown",
      "metadata": {
        "id": "TLX8-0WWNxvk"
      },
      "source": [
        "Een simpel neuraal netwerk met meerdere inputs en meerdere outputs met numpy en broadcasting methode."
      ]
    },
    {
      "cell_type": "code",
      "metadata": {
        "colab": {
          "base_uri": "https://localhost:8080/"
        },
        "id": "Jo4U8OUmLfeE",
        "outputId": "7d378d86-5077-40d5-b582-94f52139a94d"
      },
      "source": [
        "import numpy as np\n",
        "\n",
        "weights = np.array([ [0.1, 0.1, -0.3], \n",
        "            [0.1, 0.2, 0.0],\n",
        "            [0.0, 1.3, 0.1] ])\n",
        "\n",
        "toes = [8.5, 9.5, 9.9, 9.0] \n",
        "wlrec = [0.65,0.8, 0.8, 0.9] \n",
        "nfans = [1.2, 1.3, 0.5, 1.0]\n",
        "\n",
        "def neural_network_5(input, weights):\n",
        "  output = input.broadcasting(weights)\n",
        "  return output\n",
        "\n",
        "for i in range(len(toes)):\n",
        "  input = np.array([toes[i], wlrec[i], nfans[i]])\n",
        "  pred = neural_network_4(input, weights)\n",
        "  print(pred)"
      ],
      "execution_count": 16,
      "outputs": [
        {
          "output_type": "stream",
          "text": [
            "[0.5550000000000002, 0.9800000000000001, 0.9650000000000001]\n",
            "[0.64, 1.11, 1.1700000000000002]\n",
            "[0.92, 1.1500000000000001, 1.09]\n",
            "[0.69, 1.08, 1.2700000000000002]\n"
          ],
          "name": "stdout"
        }
      ]
    }
  ]
}